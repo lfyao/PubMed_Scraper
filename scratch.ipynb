{
 "cells": [
  {
   "cell_type": "code",
   "execution_count": 1,
   "metadata": {},
   "outputs": [],
   "source": [
    "# %%\n",
    "import os\n",
    "import re\n",
    "from datetime import datetime\n",
    "from pathlib import Path\n",
    "\n",
    "import pandas as pd\n",
    "from Bio import Entrez\n",
    "from Bio.Entrez import efetch, read\n",
    "from bs4 import BeautifulSoup\n",
    "import zipfile\n",
    "\n",
    "\n",
    "# %%\n",
    "retstart = 0\n",
    "sort = \"pub+date\"\n",
    "duration = ('2016/01/01', '2021/09/30')\n",
    "retmax = 1000\n",
    "query = 'case report'\n",
    "\n",
    "folder_name1 = f\"xml_pubmed (duration = {duration[0].replace('/', '-')} to {duration[1].replace('/', '-')}, \\\n",
    "query = '{query}')\"\n",
    "\n",
    "duration = ('2016/07/01', '2021/06/30')\n",
    "folder_name2 = f\"xml_pubmed (duration = {duration[0].replace('/', '-')} to {duration[1].replace('/', '-')}, \\\n",
    "query = '{query}')\"\n",
    "\n",
    "home_dir = Path(\"/home/is/leanfranzl-y/Python/\")\n",
    "# home_dir = Path('/Users/leanfranzl-y/Documents/Python/')\n",
    "\n",
    "output_dir1 = home_dir / f'Data/Output/PubMed_Scraper/{folder_name1}/'.replace('//', '/')\n",
    "output_dir2 = home_dir / f'Data/Output/PubMed_Scraper/{folder_name2}/'.replace('//', '/')"
   ]
  },
  {
   "cell_type": "code",
   "execution_count": 2,
   "metadata": {},
   "outputs": [],
   "source": [
    "zip1 = zipfile.ZipFile(str(output_dir1) + '.zip')\n",
    "zip2 = zipfile.ZipFile(str(output_dir2) + '.zip')"
   ]
  },
  {
   "cell_type": "code",
   "execution_count": 21,
   "metadata": {},
   "outputs": [],
   "source": [
    "files1 = zip1.namelist()\n",
    "files2 = zip2.namelist()\n",
    "\n",
    "files1 = [x.split('/')[1][:-4] for x in files1]\n",
    "files2 = [x.split('/')[1][:-4] for x in files2]"
   ]
  },
  {
   "cell_type": "code",
   "execution_count": 22,
   "metadata": {},
   "outputs": [
    {
     "name": "stdout",
     "output_type": "stream",
     "text": [
      "390550 306998\n"
     ]
    }
   ],
   "source": [
    "print(len(files1), len(files2))"
   ]
  },
  {
   "cell_type": "code",
   "execution_count": 23,
   "metadata": {},
   "outputs": [],
   "source": [
    "in_2_notin_1 = [x for x in files2 if x not in files1]\n",
    "# len(in_2_notin_1)"
   ]
  },
  {
   "cell_type": "code",
   "execution_count": 24,
   "metadata": {},
   "outputs": [
    {
     "data": {
      "text/plain": [
       "234"
      ]
     },
     "execution_count": 24,
     "metadata": {},
     "output_type": "execute_result"
    }
   ],
   "source": [
    "len(in_2_notin_1)"
   ]
  },
  {
   "cell_type": "code",
   "execution_count": 15,
   "metadata": {},
   "outputs": [
    {
     "data": {
      "text/plain": [
       "[\"pubmed (duration = 2016-07-01 to 2021-06-30, query = 'case report')/26072523.xml\",\n",
       " \"pubmed (duration = 2016-07-01 to 2021-06-30, query = 'case report')/27928498.xml\",\n",
       " \"pubmed (duration = 2016-07-01 to 2021-06-30, query = 'case report')/27931072.xml\",\n",
       " \"pubmed (duration = 2016-07-01 to 2021-06-30, query = 'case report')/27931087.xml\",\n",
       " \"pubmed (duration = 2016-07-01 to 2021-06-30, query = 'case report')/27931105.xml\",\n",
       " \"pubmed (duration = 2016-07-01 to 2021-06-30, query = 'case report')/27931106.xml\",\n",
       " \"pubmed (duration = 2016-07-01 to 2021-06-30, query = 'case report')/27931107.xml\",\n",
       " \"pubmed (duration = 2016-07-01 to 2021-06-30, query = 'case report')/27931108.xml\",\n",
       " \"pubmed (duration = 2016-07-01 to 2021-06-30, query = 'case report')/27931109.xml\",\n",
       " \"pubmed (duration = 2016-07-01 to 2021-06-30, query = 'case report')/27931110.xml\"]"
      ]
     },
     "execution_count": 15,
     "metadata": {},
     "output_type": "execute_result"
    }
   ],
   "source": [
    "files2[:10]"
   ]
  },
  {
   "cell_type": "code",
   "execution_count": 20,
   "metadata": {},
   "outputs": [
    {
     "data": {
      "text/plain": [
       "'23761322'"
      ]
     },
     "execution_count": 20,
     "metadata": {},
     "output_type": "execute_result"
    }
   ],
   "source": []
  },
  {
   "cell_type": "code",
   "execution_count": null,
   "metadata": {},
   "outputs": [],
   "source": []
  }
 ],
 "metadata": {
  "kernelspec": {
   "display_name": "Python 3",
   "language": "python",
   "name": "python3"
  },
  "language_info": {
   "codemirror_mode": {
    "name": "ipython",
    "version": 3
   },
   "file_extension": ".py",
   "mimetype": "text/x-python",
   "name": "python",
   "nbconvert_exporter": "python",
   "pygments_lexer": "ipython3",
   "version": "3.6.8"
  }
 },
 "nbformat": 4,
 "nbformat_minor": 4
}
